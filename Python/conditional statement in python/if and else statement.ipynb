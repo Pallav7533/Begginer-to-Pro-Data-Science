{
 "cells": [
  {
   "cell_type": "markdown",
   "id": "2cced940",
   "metadata": {},
   "source": [
    "# if and else"
   ]
  },
  {
   "cell_type": "code",
   "execution_count": 1,
   "id": "98945845",
   "metadata": {},
   "outputs": [
    {
     "name": "stdout",
     "output_type": "stream",
     "text": [
      "Hello\n"
     ]
    }
   ],
   "source": [
    "a = 10\n",
    "\n",
    "if (a > 5):\n",
    "    print(\"Hello\")"
   ]
  },
  {
   "cell_type": "code",
   "execution_count": 2,
   "id": "f4545edf",
   "metadata": {},
   "outputs": [],
   "source": [
    "a = 20\n",
    "\n",
    "if 20 == 10:\n",
    "    print(\"Hi\")"
   ]
  },
  {
   "cell_type": "code",
   "execution_count": 3,
   "id": "048556e5",
   "metadata": {},
   "outputs": [
    {
     "name": "stdout",
     "output_type": "stream",
     "text": [
      "Enter your pin:5432\n",
      "Your pin is incorrect\n"
     ]
    }
   ],
   "source": [
    "pin = 1234\n",
    "get_pin = int(input(\"Enter your pin:\"))\n",
    "\n",
    "if get_pin == pin:\n",
    "    print(\"Here is your cash\")\n",
    "else:\n",
    "    print(\"Your pin is incorrect\")"
   ]
  },
  {
   "cell_type": "code",
   "execution_count": 4,
   "id": "c101bd15",
   "metadata": {},
   "outputs": [
    {
     "ename": "SyntaxError",
     "evalue": "invalid syntax (4061035225.py, line 1)",
     "output_type": "error",
     "traceback": [
      "\u001b[1;36m  Cell \u001b[1;32mIn[4], line 1\u001b[1;36m\u001b[0m\n\u001b[1;33m    else:\u001b[0m\n\u001b[1;37m    ^\u001b[0m\n\u001b[1;31mSyntaxError\u001b[0m\u001b[1;31m:\u001b[0m invalid syntax\n"
     ]
    }
   ],
   "source": [
    "else:\n",
    "    print(\"Hi\")"
   ]
  },
  {
   "cell_type": "code",
   "execution_count": 5,
   "id": "89c97e1a",
   "metadata": {},
   "outputs": [],
   "source": [
    "#Write a program to enter a number from user and print its absolute value?"
   ]
  },
  {
   "cell_type": "raw",
   "id": "43bfb197",
   "metadata": {},
   "source": [
    "__________._____________\n",
    " -4 -2 -1 0  1  2 3  4\n",
    "    \n",
    "|-2| = 2\n",
    "\n",
    "|-4| = 4"
   ]
  },
  {
   "cell_type": "code",
   "execution_count": 6,
   "id": "1a5af722",
   "metadata": {},
   "outputs": [
    {
     "name": "stdout",
     "output_type": "stream",
     "text": [
      "Enter a number:-1\n",
      "Absolute value = 1\n"
     ]
    }
   ],
   "source": [
    "n = int(input(\"Enter a number:\"))\n",
    "\n",
    "if n >= 0:\n",
    "    print(\"Absolute value =\", n)\n",
    "else:\n",
    "    print(\"Absolute value =\", n * (-1))"
   ]
  },
  {
   "cell_type": "code",
   "execution_count": null,
   "id": "33203965",
   "metadata": {},
   "outputs": [],
   "source": []
  }
 ],
 "metadata": {
  "kernelspec": {
   "display_name": "Python 3 (ipykernel)",
   "language": "python",
   "name": "python3"
  },
  "language_info": {
   "codemirror_mode": {
    "name": "ipython",
    "version": 3
   },
   "file_extension": ".py",
   "mimetype": "text/x-python",
   "name": "python",
   "nbconvert_exporter": "python",
   "pygments_lexer": "ipython3",
   "version": "3.10.13"
  }
 },
 "nbformat": 4,
 "nbformat_minor": 5
}
