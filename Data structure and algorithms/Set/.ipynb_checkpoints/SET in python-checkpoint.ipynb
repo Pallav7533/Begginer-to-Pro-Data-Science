{
 "cells": [
  {
   "cell_type": "markdown",
   "id": "044a9a9b",
   "metadata": {},
   "source": [
    "# set \n"
   ]
  },
  {
   "cell_type": "raw",
   "id": "edeaf756",
   "metadata": {},
   "source": [
    "Python set is a mutable collection of data that does not allow any duplication. Sets are basically used to include membership testing and eliminating duplicate entries. "
   ]
  },
  {
   "cell_type": "code",
   "execution_count": 1,
   "id": "0681fee3",
   "metadata": {},
   "outputs": [],
   "source": [
    "#implementation"
   ]
  },
  {
   "cell_type": "code",
   "execution_count": 6,
   "id": "8600a793",
   "metadata": {},
   "outputs": [
    {
     "name": "stdout",
     "output_type": "stream",
     "text": [
      "\n",
      "Set with the use of Mixed Values\n",
      "{1, 2, 4, 6, 'Pal', 'is'}\n"
     ]
    }
   ],
   "source": [
    "# Creating a Set with\n",
    "# a mixed type of values\n",
    "# (Having numbers and strings)\n",
    "Set = set([1, 2, 'Pal', 4, 'is', 6, 'Pal'])\n",
    "print(\"\\nSet with the use of Mixed Values\")\n",
    "print(Set)\n"
   ]
  },
  {
   "cell_type": "code",
   "execution_count": 7,
   "id": "58e7ca4a",
   "metadata": {},
   "outputs": [
    {
     "name": "stdout",
     "output_type": "stream",
     "text": [
      "\n",
      "Elements of set: \n",
      "1 2 4 6 Pal is \n"
     ]
    }
   ],
   "source": [
    " \n",
    "# Accessing element using\n",
    "# for loop\n",
    "print(\"\\nElements of set: \")\n",
    "for i in Set:\n",
    "    print(i, end =\" \")\n",
    "print()\n",
    " \n"
   ]
  },
  {
   "cell_type": "code",
   "execution_count": 9,
   "id": "cdf69947",
   "metadata": {},
   "outputs": [
    {
     "name": "stdout",
     "output_type": "stream",
     "text": [
      "False\n"
     ]
    }
   ],
   "source": [
    "# Checking the element\n",
    "# using in keyword\n",
    "print(\"He\" in Set)"
   ]
  },
  {
   "cell_type": "code",
   "execution_count": null,
   "id": "66c31f7b",
   "metadata": {},
   "outputs": [],
   "source": []
  }
 ],
 "metadata": {
  "kernelspec": {
   "display_name": "Python 3 (ipykernel)",
   "language": "python",
   "name": "python3"
  },
  "language_info": {
   "codemirror_mode": {
    "name": "ipython",
    "version": 3
   },
   "file_extension": ".py",
   "mimetype": "text/x-python",
   "name": "python",
   "nbconvert_exporter": "python",
   "pygments_lexer": "ipython3",
   "version": "3.10.13"
  }
 },
 "nbformat": 4,
 "nbformat_minor": 5
}
