{
 "cells": [
  {
   "cell_type": "markdown",
   "id": "246f87d6",
   "metadata": {},
   "source": [
    "# Getting value from user\n"
   ]
  },
  {
   "cell_type": "code",
   "execution_count": 1,
   "id": "49110531",
   "metadata": {},
   "outputs": [
    {
     "name": "stdout",
     "output_type": "stream",
     "text": [
      "23\n",
      "23\n"
     ]
    }
   ],
   "source": [
    "a = input()\n",
    "\n",
    "print(a)"
   ]
  },
  {
   "cell_type": "code",
   "execution_count": 2,
   "id": "5d4b62fb",
   "metadata": {},
   "outputs": [
    {
     "name": "stdout",
     "output_type": "stream",
     "text": [
      "Enter a Number: 123\n",
      "123\n"
     ]
    }
   ],
   "source": [
    "b = input(\"Enter a Number: \")\n",
    "\n",
    "print(b)"
   ]
  },
  {
   "cell_type": "code",
   "execution_count": 3,
   "id": "24829f9f",
   "metadata": {},
   "outputs": [
    {
     "name": "stdout",
     "output_type": "stream",
     "text": [
      "Enter Your Name: pallav chavda\n",
      "Hello! pallav chavda\n"
     ]
    }
   ],
   "source": [
    "x = input(\"Enter Your Name: \")\n",
    "\n",
    "print(\"Hello!\", x)"
   ]
  },
  {
   "cell_type": "code",
   "execution_count": 4,
   "id": "4f1a5539",
   "metadata": {},
   "outputs": [
    {
     "name": "stdout",
     "output_type": "stream",
     "text": [
      "Enter Your Password: pallavdrjking\n",
      "Your Password is :  pallavdrjking\n"
     ]
    }
   ],
   "source": [
    "password = input(\"Enter Your Password: \")\n",
    "\n",
    "print(\"Your Password is : \", password)"
   ]
  },
  {
   "cell_type": "code",
   "execution_count": null,
   "id": "a44d5c6b",
   "metadata": {},
   "outputs": [],
   "source": []
  }
 ],
 "metadata": {
  "kernelspec": {
   "display_name": "Python 3 (ipykernel)",
   "language": "python",
   "name": "python3"
  },
  "language_info": {
   "codemirror_mode": {
    "name": "ipython",
    "version": 3
   },
   "file_extension": ".py",
   "mimetype": "text/x-python",
   "name": "python",
   "nbconvert_exporter": "python",
   "pygments_lexer": "ipython3",
   "version": "3.10.13"
  }
 },
 "nbformat": 4,
 "nbformat_minor": 5
}
