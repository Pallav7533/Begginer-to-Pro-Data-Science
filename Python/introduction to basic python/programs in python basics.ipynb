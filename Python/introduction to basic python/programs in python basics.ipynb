{
 "cells": [
  {
   "cell_type": "code",
   "execution_count": 1,
   "id": "8266eff1",
   "metadata": {},
   "outputs": [],
   "source": [
    "#Write a program to enter length of a square and print area of it.\n"
   ]
  },
  {
   "cell_type": "code",
   "execution_count": 2,
   "id": "5989adbe",
   "metadata": {},
   "outputs": [
    {
     "name": "stdout",
     "output_type": "stream",
     "text": [
      "Enter length of the square side:3\n",
      "Area of square= 9\n"
     ]
    }
   ],
   "source": [
    "x = int(input(\"Enter length of the square side:\"))\n",
    "\n",
    "area = x * x   # x ** 2 \n",
    "\n",
    "print(\"Area of square=\", area)"
   ]
  },
  {
   "cell_type": "code",
   "execution_count": 3,
   "id": "75b833c1",
   "metadata": {},
   "outputs": [],
   "source": [
    "#Write a program to enter radius of a circle from user and print area of it."
   ]
  },
  {
   "cell_type": "code",
   "execution_count": 4,
   "id": "c8d13817",
   "metadata": {},
   "outputs": [
    {
     "name": "stdout",
     "output_type": "stream",
     "text": [
      "Enter radius: 3\n",
      "Area of circle = 28.259999999999998\n"
     ]
    }
   ],
   "source": [
    "r = float(input(\"Enter radius: \"))\n",
    "\n",
    "pi = 3.14\n",
    "\n",
    "area = pi * r * r\n",
    "\n",
    "print(\"Area of circle =\", area)"
   ]
  },
  {
   "cell_type": "code",
   "execution_count": 5,
   "id": "d3b07a40",
   "metadata": {},
   "outputs": [],
   "source": [
    "# Write a program to enter the name from user and greet them."
   ]
  },
  {
   "cell_type": "code",
   "execution_count": 6,
   "id": "b5f672e5",
   "metadata": {},
   "outputs": [
    {
     "name": "stdout",
     "output_type": "stream",
     "text": [
      "Enter your name: pallav\n",
      "Hello, How are you?  pallav\n"
     ]
    }
   ],
   "source": [
    "name = input(\"Enter your name: \")\n",
    "\n",
    "print(\"Hello, How are you? \", name)"
   ]
  },
  {
   "cell_type": "code",
   "execution_count": 7,
   "id": "221a27e0",
   "metadata": {},
   "outputs": [],
   "source": [
    "#Write a program to print the stairs"
   ]
  },
  {
   "cell_type": "code",
   "execution_count": 9,
   "id": "c7e2906f",
   "metadata": {},
   "outputs": [
    {
     "name": "stdout",
     "output_type": "stream",
     "text": [
      "_\n",
      " |_\n",
      "   |_\n",
      "     |\n"
     ]
    }
   ],
   "source": [
    "print(\"_\\n |_\\n   |_\\n     |\")"
   ]
  },
  {
   "cell_type": "code",
   "execution_count": null,
   "id": "a1e55443",
   "metadata": {},
   "outputs": [],
   "source": []
  }
 ],
 "metadata": {
  "kernelspec": {
   "display_name": "Python 3 (ipykernel)",
   "language": "python",
   "name": "python3"
  },
  "language_info": {
   "codemirror_mode": {
    "name": "ipython",
    "version": 3
   },
   "file_extension": ".py",
   "mimetype": "text/x-python",
   "name": "python",
   "nbconvert_exporter": "python",
   "pygments_lexer": "ipython3",
   "version": "3.10.13"
  }
 },
 "nbformat": 4,
 "nbformat_minor": 5
}
