{
 "cells": [
  {
   "cell_type": "markdown",
   "id": "2d2eb81a",
   "metadata": {},
   "source": [
    "# Dictionary"
   ]
  },
  {
   "cell_type": "markdown",
   "id": "8a531b47",
   "metadata": {},
   "source": [
    "Python dictionary is an unordered collection of data that stores data in the format of key:value pair. \n",
    "\n",
    "It is like hash tables in any other language with the time complexity of O(1). \n",
    "\n",
    "Indexing of Python Dictionary is done with the help of keys. \n",
    "\n",
    "These are of any hashable type i.e. an object whose can never change like strings, numbers, tuples, etc. We can create a dictionary by using curly braces ({}) or dictionary comprehension."
   ]
  },
  {
   "cell_type": "code",
   "execution_count": 1,
   "id": "0be7398c",
   "metadata": {},
   "outputs": [],
   "source": [
    "#Examples"
   ]
  },
  {
   "cell_type": "code",
   "execution_count": 2,
   "id": "8a63557b",
   "metadata": {},
   "outputs": [
    {
     "name": "stdout",
     "output_type": "stream",
     "text": [
      "Creating Dictionary: \n",
      "{'Name': 'Pal', 1: [1, 2, 3, 4]}\n"
     ]
    }
   ],
   "source": [
    "Dict = {'Name': 'Pal', 1: [1, 2, 3, 4]}\n",
    "print(\"Creating Dictionary: \")\n",
    "print(Dict)\n",
    " \n"
   ]
  },
  {
   "cell_type": "code",
   "execution_count": 3,
   "id": "ecaeba57",
   "metadata": {},
   "outputs": [
    {
     "name": "stdout",
     "output_type": "stream",
     "text": [
      "Accessing a element using key:\n",
      "Pal\n"
     ]
    }
   ],
   "source": [
    "# accessing a element using key\n",
    "print(\"Accessing a element using key:\")\n",
    "print(Dict['Name'])\n",
    " \n"
   ]
  },
  {
   "cell_type": "code",
   "execution_count": 4,
   "id": "3ad39d2d",
   "metadata": {},
   "outputs": [
    {
     "name": "stdout",
     "output_type": "stream",
     "text": [
      "Accessing a element using get:\n",
      "[1, 2, 3, 4]\n"
     ]
    }
   ],
   "source": [
    "# accessing a element using get()\n",
    "# method\n",
    "print(\"Accessing a element using get:\")\n",
    "print(Dict.get(1))\n",
    " \n"
   ]
  },
  {
   "cell_type": "code",
   "execution_count": 5,
   "id": "78e4ee42",
   "metadata": {},
   "outputs": [
    {
     "name": "stdout",
     "output_type": "stream",
     "text": [
      "{1: 1, 2: 4, 3: 9, 4: 16, 5: 25}\n"
     ]
    }
   ],
   "source": [
    "# creation using Dictionary comprehension\n",
    "myDict = {x: x**2 for x in [1,2,3,4,5]}\n",
    "print(myDict)"
   ]
  },
  {
   "cell_type": "code",
   "execution_count": 6,
   "id": "7811e749",
   "metadata": {},
   "outputs": [],
   "source": [
    "#others"
   ]
  },
  {
   "cell_type": "markdown",
   "id": "992f00c0",
   "metadata": {},
   "source": [
    "1. string\n",
    "2. Matrix\n",
    "3. FrozenSet\n",
    "4. ByteArray\n",
    "5. LinkedList\n",
    "6. Stack\n",
    "7. Queue\n",
    "8. Heap\n",
    "9. Binary Tree\n",
    "10. BST\n",
    "11. Graph\n",
    "13. Adjacent List\n"
   ]
  },
  {
   "cell_type": "code",
   "execution_count": null,
   "id": "cf3946fb",
   "metadata": {},
   "outputs": [],
   "source": []
  }
 ],
 "metadata": {
  "kernelspec": {
   "display_name": "Python 3 (ipykernel)",
   "language": "python",
   "name": "python3"
  },
  "language_info": {
   "codemirror_mode": {
    "name": "ipython",
    "version": 3
   },
   "file_extension": ".py",
   "mimetype": "text/x-python",
   "name": "python",
   "nbconvert_exporter": "python",
   "pygments_lexer": "ipython3",
   "version": "3.10.13"
  }
 },
 "nbformat": 4,
 "nbformat_minor": 5
}
