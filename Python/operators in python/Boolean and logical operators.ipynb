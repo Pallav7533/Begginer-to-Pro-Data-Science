{
 "cells": [
  {
   "cell_type": "raw",
   "id": "de281f81",
   "metadata": {},
   "source": [
    "# boolean operators\n",
    "\n",
    "True\n",
    "\n",
    "False"
   ]
  },
  {
   "cell_type": "raw",
   "id": "e7f00dfd",
   "metadata": {},
   "source": [
    "# logical operators\n",
    "\n",
    "not\n",
    "and\n",
    "or"
   ]
  },
  {
   "cell_type": "code",
   "execution_count": 1,
   "id": "18331459",
   "metadata": {},
   "outputs": [
    {
     "name": "stdout",
     "output_type": "stream",
     "text": [
      "False\n"
     ]
    }
   ],
   "source": [
    "print(not True)"
   ]
  },
  {
   "cell_type": "code",
   "execution_count": 2,
   "id": "a7a7791b",
   "metadata": {},
   "outputs": [
    {
     "name": "stdout",
     "output_type": "stream",
     "text": [
      "True\n"
     ]
    }
   ],
   "source": [
    "print(not False)"
   ]
  },
  {
   "cell_type": "code",
   "execution_count": 3,
   "id": "6afbd76e",
   "metadata": {},
   "outputs": [
    {
     "ename": "SyntaxError",
     "evalue": "invalid syntax (941600843.py, line 1)",
     "output_type": "error",
     "traceback": [
      "\u001b[1;36m  Cell \u001b[1;32mIn[3], line 1\u001b[1;36m\u001b[0m\n\u001b[1;33m    print(False not)\u001b[0m\n\u001b[1;37m                   ^\u001b[0m\n\u001b[1;31mSyntaxError\u001b[0m\u001b[1;31m:\u001b[0m invalid syntax\n"
     ]
    }
   ],
   "source": [
    "print(False not)"
   ]
  },
  {
   "cell_type": "raw",
   "id": "5253ea91",
   "metadata": {},
   "source": [
    "# truth table for and\n",
    "0 = False, 1 = True\n",
    "\n",
    "False and False = False\n",
    "False and True = False\n",
    "True and False = False\n",
    "True and True = True"
   ]
  },
  {
   "cell_type": "code",
   "execution_count": 4,
   "id": "996b620b",
   "metadata": {},
   "outputs": [
    {
     "name": "stdout",
     "output_type": "stream",
     "text": [
      "False\n"
     ]
    }
   ],
   "source": [
    "print(False and True)"
   ]
  },
  {
   "cell_type": "code",
   "execution_count": 5,
   "id": "bc5b25e5",
   "metadata": {},
   "outputs": [
    {
     "name": "stdout",
     "output_type": "stream",
     "text": [
      "False\n"
     ]
    }
   ],
   "source": [
    "print(False and True and False and True)"
   ]
  },
  {
   "cell_type": "raw",
   "id": "8a4d90a1",
   "metadata": {},
   "source": [
    "# truth table for or\n",
    "0 = False, 1 = True\n",
    "\n",
    "False or False = False\n",
    "False or True = True\n",
    "True or False = True\n",
    "True or True = True"
   ]
  },
  {
   "cell_type": "code",
   "execution_count": 7,
   "id": "91e106dc",
   "metadata": {},
   "outputs": [
    {
     "name": "stdout",
     "output_type": "stream",
     "text": [
      "True\n"
     ]
    }
   ],
   "source": [
    "print(True or False or True or False or False)"
   ]
  },
  {
   "cell_type": "raw",
   "id": "30bb6f77",
   "metadata": {},
   "source": [
    "# priority\n",
    "\n",
    "1. not\n",
    "2. and\n",
    "3. or"
   ]
  },
  {
   "cell_type": "code",
   "execution_count": 8,
   "id": "c13bb582",
   "metadata": {},
   "outputs": [
    {
     "name": "stdout",
     "output_type": "stream",
     "text": [
      "True\n"
     ]
    }
   ],
   "source": [
    "print(False and not True or False and not False or True and not False and True)\n",
    "#                  False                 True                 True\n",
    "#         False                   False                   True\n",
    "#                                                              True\n",
    "# True"
   ]
  },
  {
   "cell_type": "code",
   "execution_count": null,
   "id": "adc8c0c8",
   "metadata": {},
   "outputs": [],
   "source": []
  }
 ],
 "metadata": {
  "kernelspec": {
   "display_name": "Python 3 (ipykernel)",
   "language": "python",
   "name": "python3"
  },
  "language_info": {
   "codemirror_mode": {
    "name": "ipython",
    "version": 3
   },
   "file_extension": ".py",
   "mimetype": "text/x-python",
   "name": "python",
   "nbconvert_exporter": "python",
   "pygments_lexer": "ipython3",
   "version": "3.10.13"
  }
 },
 "nbformat": 4,
 "nbformat_minor": 5
}
