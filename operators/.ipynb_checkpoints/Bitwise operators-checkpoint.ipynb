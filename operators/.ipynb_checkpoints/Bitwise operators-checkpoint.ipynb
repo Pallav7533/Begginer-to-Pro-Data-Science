{
 "cells": [
  {
   "cell_type": "markdown",
   "id": "0b404588",
   "metadata": {},
   "source": [
    "# Bitwise operators"
   ]
  },
  {
   "cell_type": "raw",
   "id": "bb03bcbc",
   "metadata": {},
   "source": [
    "& -> bitwise and\n",
    "| -> bitwise or\n",
    "^ -> bitwise xor\n",
    "<<  -> bitwise leftshift\n",
    ">>  -> bitwise rightshift"
   ]
  },
  {
   "cell_type": "markdown",
   "id": "cc0465da",
   "metadata": {},
   "source": [
    "# & -> bitwise and"
   ]
  },
  {
   "cell_type": "code",
   "execution_count": 1,
   "id": "b5e29326",
   "metadata": {},
   "outputs": [
    {
     "name": "stdout",
     "output_type": "stream",
     "text": [
      "0\n"
     ]
    }
   ],
   "source": [
    "print(8 & 2)"
   ]
  },
  {
   "cell_type": "markdown",
   "id": "2a073671",
   "metadata": {},
   "source": [
    "# Binary Numbers "
   ]
  },
  {
   "cell_type": "raw",
   "id": "b7b1f90e",
   "metadata": {},
   "source": [
    "1024    512    256    128    64    32    16    8    4    2    1\n",
    "                                               1    0    0    0\n",
    "                                                         1    0\n",
    "                                               0    0    0    0\n",
    "                                               1    0    1    1\n",
    "                                                         1    1\n",
    "                                          1    1    0    1    1\n",
    "                                          1    1    0    0    1"
   ]
  },
  {
   "cell_type": "raw",
   "id": "90de40b6",
   "metadata": {},
   "source": [
    "truth tables\n",
    "& \n",
    "0  &  0 -> 0 \n",
    "0  &  1 -> 0\n",
    "1  &  0 -> 0\n",
    "1  &  1 -> 1"
   ]
  },
  {
   "cell_type": "raw",
   "id": "0d796673",
   "metadata": {},
   "source": [
    "1000\n",
    "0010  &\n",
    "0000"
   ]
  },
  {
   "cell_type": "code",
   "execution_count": 2,
   "id": "1aefdb67",
   "metadata": {},
   "outputs": [
    {
     "name": "stdout",
     "output_type": "stream",
     "text": [
      "3\n"
     ]
    }
   ],
   "source": [
    "print(11 & 3)"
   ]
  },
  {
   "cell_type": "raw",
   "id": "47bcb0ae",
   "metadata": {},
   "source": [
    "1011\n",
    "0011  &\n",
    "0011"
   ]
  },
  {
   "cell_type": "code",
   "execution_count": 4,
   "id": "f6aba4c9",
   "metadata": {},
   "outputs": [
    {
     "data": {
      "text/plain": [
       "11"
      ]
     },
     "execution_count": 4,
     "metadata": {},
     "output_type": "execute_result"
    }
   ],
   "source": [
    "27 & 11"
   ]
  },
  {
   "cell_type": "raw",
   "id": "091240fe",
   "metadata": {},
   "source": [
    "11011\n",
    "01011  &\n",
    "01011"
   ]
  },
  {
   "cell_type": "code",
   "execution_count": 6,
   "id": "d0bcc717",
   "metadata": {},
   "outputs": [
    {
     "data": {
      "text/plain": [
       "25"
      ]
     },
     "execution_count": 6,
     "metadata": {},
     "output_type": "execute_result"
    }
   ],
   "source": [
    "31 & 25"
   ]
  },
  {
   "cell_type": "raw",
   "id": "764f1f72",
   "metadata": {},
   "source": [
    "11111\n",
    "11001  &\n",
    "11001"
   ]
  },
  {
   "cell_type": "markdown",
   "id": "e8b1908f",
   "metadata": {},
   "source": [
    "# Bitwise OR"
   ]
  },
  {
   "cell_type": "raw",
   "id": "cabbf4fd",
   "metadata": {},
   "source": [
    "& -> bitwise and\n",
    "| -> bitwise or\n",
    "^ -> bitwise xor\n",
    "<<  -> bitwise leftshift\n",
    ">>  -> bitwise rightshift"
   ]
  },
  {
   "cell_type": "code",
   "execution_count": 7,
   "id": "0895b774",
   "metadata": {},
   "outputs": [
    {
     "name": "stdout",
     "output_type": "stream",
     "text": [
      "10\n"
     ]
    }
   ],
   "source": [
    "print(10 | 8)"
   ]
  },
  {
   "cell_type": "raw",
   "id": "a53f135e",
   "metadata": {},
   "source": [
    "1024    512    256    128    64    32    16    8    4    2    1\n",
    "                                               1    0    1    0\n",
    "                                               1    0    0    0\n",
    "                                          1    0    1    1    0\n",
    "                                          1    0    1    1    1"
   ]
  },
  {
   "cell_type": "raw",
   "id": "8a48a57a",
   "metadata": {},
   "source": [
    "truth table\n",
    "|\n",
    "0 | 0 -> 0\n",
    "0 | 1 -> 1\n",
    "1 | 0 -> 1\n",
    "1 | 1 -> 1"
   ]
  },
  {
   "cell_type": "raw",
   "id": "3366f857",
   "metadata": {},
   "source": [
    "1010\n",
    "1000  |\n",
    "1010"
   ]
  },
  {
   "cell_type": "code",
   "execution_count": 8,
   "id": "42d03f3b",
   "metadata": {},
   "outputs": [
    {
     "name": "stdout",
     "output_type": "stream",
     "text": [
      "23\n"
     ]
    }
   ],
   "source": [
    "print(17 | 22)"
   ]
  },
  {
   "cell_type": "raw",
   "id": "c960dbee",
   "metadata": {},
   "source": [
    "10001\n",
    "10110  |\n",
    "10111        ---> 23"
   ]
  },
  {
   "cell_type": "markdown",
   "id": "6d20c0ea",
   "metadata": {},
   "source": [
    "# Bitwise XOR"
   ]
  },
  {
   "cell_type": "code",
   "execution_count": 9,
   "id": "3e26278b",
   "metadata": {},
   "outputs": [
    {
     "name": "stdout",
     "output_type": "stream",
     "text": [
      "5\n"
     ]
    }
   ],
   "source": [
    "print(12 ^ 9)"
   ]
  },
  {
   "cell_type": "raw",
   "id": "0d26bea0",
   "metadata": {},
   "source": [
    "1024    512    256    128    64    32    16    8    4    2    1\n",
    "                                               1    1    0    0\n",
    "                                               1    0    0    1\n",
    "                                               0    1    0    1\n",
    "                                          1    1    0    1    1\n",
    "                                          0    1    1    1    0"
   ]
  },
  {
   "cell_type": "raw",
   "id": "31a17018",
   "metadata": {},
   "source": [
    "truth table\n",
    "^\n",
    "0 ^ 0 -> 0\n",
    "0 ^ 1 -> 1\n",
    "1 ^ 0 -> 1\n",
    "1 ^ 1 -> 0"
   ]
  },
  {
   "cell_type": "raw",
   "id": "a2d36e04",
   "metadata": {},
   "source": [
    "1100\n",
    "1001  ^\n",
    "0101"
   ]
  },
  {
   "cell_type": "code",
   "execution_count": 10,
   "id": "bb0ad756",
   "metadata": {},
   "outputs": [
    {
     "name": "stdout",
     "output_type": "stream",
     "text": [
      "14\n"
     ]
    }
   ],
   "source": [
    "print(21 ^ 27)"
   ]
  },
  {
   "cell_type": "raw",
   "id": "32b3ae5d",
   "metadata": {},
   "source": [
    "10101\n",
    "11011  ^\n",
    "01110"
   ]
  },
  {
   "cell_type": "markdown",
   "id": "0fa1fac2",
   "metadata": {},
   "source": [
    "# Bitwise Left Shift"
   ]
  },
  {
   "cell_type": "raw",
   "id": "81fe76e1",
   "metadata": {},
   "source": [
    "<<"
   ]
  },
  {
   "cell_type": "code",
   "execution_count": 11,
   "id": "cbd08ceb",
   "metadata": {},
   "outputs": [
    {
     "name": "stdout",
     "output_type": "stream",
     "text": [
      "40\n"
     ]
    }
   ],
   "source": [
    "print(10 << 2)"
   ]
  },
  {
   "cell_type": "raw",
   "id": "e124eb6a",
   "metadata": {},
   "source": [
    "1024    512    256    128    64    32    16    8    4    2    1\n",
    "                                               1    0    1    0\n",
    "                       0      0    1      0    1    0    0    0    \n",
    "                       1      1     0      0    0   0    0    0"
   ]
  },
  {
   "cell_type": "raw",
   "id": "f2b3dd9e",
   "metadata": {},
   "source": [
    "00001010\n",
    "\n",
    "00010100\n",
    "\n",
    "00101000"
   ]
  },
  {
   "cell_type": "code",
   "execution_count": 12,
   "id": "5379b4c1",
   "metadata": {},
   "outputs": [
    {
     "name": "stdout",
     "output_type": "stream",
     "text": [
      "192\n"
     ]
    }
   ],
   "source": [
    "print(24 << 3)"
   ]
  },
  {
   "cell_type": "raw",
   "id": "4bd1f82f",
   "metadata": {},
   "source": [
    "00011000\n",
    "\n",
    "11000000"
   ]
  },
  {
   "cell_type": "markdown",
   "id": "1fc6de7f",
   "metadata": {},
   "source": [
    "# Bitwise Right Shift"
   ]
  },
  {
   "cell_type": "raw",
   "id": "fe5242fe",
   "metadata": {},
   "source": [
    ">>"
   ]
  },
  {
   "cell_type": "code",
   "execution_count": 13,
   "id": "b31b4fae",
   "metadata": {},
   "outputs": [
    {
     "name": "stdout",
     "output_type": "stream",
     "text": [
      "3\n"
     ]
    }
   ],
   "source": [
    "print(12 >> 2)"
   ]
  },
  {
   "cell_type": "raw",
   "id": "48283cc0",
   "metadata": {},
   "source": [
    "128    64    32    16    8    4    2    1\n",
    "                         1    1    0    0\n",
    "                                   1    1\n",
    "                    1    1    0    1    1\n",
    "              1     0    1    1    1    1\n",
    "                         1    0    1    1"
   ]
  },
  {
   "cell_type": "raw",
   "id": "8cdb6373",
   "metadata": {},
   "source": [
    "00001100\n",
    "\n",
    "00000110\n",
    "\n",
    "00000011"
   ]
  },
  {
   "cell_type": "code",
   "execution_count": 15,
   "id": "2a0ff317",
   "metadata": {},
   "outputs": [
    {
     "name": "stdout",
     "output_type": "stream",
     "text": [
      "3\n"
     ]
    }
   ],
   "source": [
    "print(27 >> 3)"
   ]
  },
  {
   "cell_type": "raw",
   "id": "49d88cda",
   "metadata": {},
   "source": [
    "00001101\n",
    "\n",
    "00000110\n",
    "\n",
    "00000011"
   ]
  },
  {
   "cell_type": "code",
   "execution_count": 18,
   "id": "77632f8d",
   "metadata": {},
   "outputs": [
    {
     "name": "stdout",
     "output_type": "stream",
     "text": [
      "8\n"
     ]
    }
   ],
   "source": [
    "print(34>>2)"
   ]
  },
  {
   "cell_type": "code",
   "execution_count": null,
   "id": "88822865",
   "metadata": {},
   "outputs": [],
   "source": []
  }
 ],
 "metadata": {
  "kernelspec": {
   "display_name": "Python 3 (ipykernel)",
   "language": "python",
   "name": "python3"
  },
  "language_info": {
   "codemirror_mode": {
    "name": "ipython",
    "version": 3
   },
   "file_extension": ".py",
   "mimetype": "text/x-python",
   "name": "python",
   "nbconvert_exporter": "python",
   "pygments_lexer": "ipython3",
   "version": "3.10.13"
  }
 },
 "nbformat": 4,
 "nbformat_minor": 5
}
