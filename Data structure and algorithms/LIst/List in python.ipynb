{
 "cells": [
  {
   "cell_type": "markdown",
   "id": "f6330a63",
   "metadata": {},
   "source": [
    "# list in python"
   ]
  },
  {
   "cell_type": "raw",
   "id": "02cf353a",
   "metadata": {},
   "source": [
    "Python Lists are ordered collections of data just like arrays in other programming languages. It allows different types of elements in the list. "
   ]
  },
  {
   "cell_type": "raw",
   "id": "e6aec14d",
   "metadata": {},
   "source": [
    "The implementation of Python List is similar to Vectors in C++ or ArrayList in JAVA. The costly operation is inserting or deleting the element from the beginning of the List as all the elements are needed to be shifted. Insertion and deletion at the end of the list can also become costly in the case where the preallocated memory becomes full."
   ]
  },
  {
   "cell_type": "code",
   "execution_count": 1,
   "id": "5dc9efde",
   "metadata": {},
   "outputs": [
    {
     "name": "stdout",
     "output_type": "stream",
     "text": [
      "[1, 2, 3, 'GFG', 2.3]\n"
     ]
    }
   ],
   "source": [
    "List = [1, 2, 3, \"GFG\", 2.3]\n",
    "print(List)"
   ]
  },
  {
   "cell_type": "markdown",
   "id": "999d189a",
   "metadata": {},
   "source": [
    "# Example: Python List Operations"
   ]
  },
  {
   "cell_type": "code",
   "execution_count": 7,
   "id": "ebac8ff4",
   "metadata": {},
   "outputs": [
    {
     "name": "stdout",
     "output_type": "stream",
     "text": [
      "\n",
      "List containing multiple values: \n",
      "['pal', 'For', 'Pal']\n"
     ]
    }
   ],
   "source": [
    "# Creating a List with\n",
    "# the use of multiple values\n",
    "List = [\"pal\", \"For\", \"Pal\"]\n",
    "print(\"\\nList containing multiple values: \")\n",
    "print(List)\n",
    " \n"
   ]
  },
  {
   "cell_type": "code",
   "execution_count": 10,
   "id": "ead88fe3",
   "metadata": {},
   "outputs": [
    {
     "name": "stdout",
     "output_type": "stream",
     "text": [
      "\n",
      "Multi-Dimensional List: \n",
      "[['you', 'For'], ['Pal']]\n"
     ]
    }
   ],
   "source": [
    "# Creating a Multi-Dimensional List\n",
    "# (By Nesting a list inside a List)\n",
    "List2 = [['you', 'For'], ['Pal']]\n",
    "print(\"\\nMulti-Dimensional List: \")\n",
    "print(List2)\n",
    " \n"
   ]
  },
  {
   "cell_type": "code",
   "execution_count": 11,
   "id": "b015aa0e",
   "metadata": {},
   "outputs": [
    {
     "name": "stdout",
     "output_type": "stream",
     "text": [
      "Accessing element from the list\n",
      "pal\n",
      "Pal\n"
     ]
    }
   ],
   "source": [
    "# accessing a element from the\n",
    "# list using index number\n",
    "print(\"Accessing element from the list\")\n",
    "print(List[0])\n",
    "print(List[2])# accessing a element using\n"
   ]
  },
  {
   "cell_type": "code",
   "execution_count": 12,
   "id": "d11d80bb",
   "metadata": {},
   "outputs": [
    {
     "name": "stdout",
     "output_type": "stream",
     "text": [
      "Accessing element using negative indexing\n",
      "Pal\n",
      "pal\n"
     ]
    }
   ],
   "source": [
    "# negative indexing\n",
    "print(\"Accessing element using negative indexing\")\n",
    "     \n",
    "# print the last element of list\n",
    "print(List[-1])\n",
    "     \n",
    "# print the third last element of list\n",
    "print(List[-3])"
   ]
  },
  {
   "cell_type": "code",
   "execution_count": null,
   "id": "43a9e784",
   "metadata": {},
   "outputs": [],
   "source": []
  }
 ],
 "metadata": {
  "kernelspec": {
   "display_name": "Python 3 (ipykernel)",
   "language": "python",
   "name": "python3"
  },
  "language_info": {
   "codemirror_mode": {
    "name": "ipython",
    "version": 3
   },
   "file_extension": ".py",
   "mimetype": "text/x-python",
   "name": "python",
   "nbconvert_exporter": "python",
   "pygments_lexer": "ipython3",
   "version": "3.10.13"
  }
 },
 "nbformat": 4,
 "nbformat_minor": 5
}
