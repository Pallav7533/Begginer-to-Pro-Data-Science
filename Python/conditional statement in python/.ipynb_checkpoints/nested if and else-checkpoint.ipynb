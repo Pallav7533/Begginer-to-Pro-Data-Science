{
 "cells": [
  {
   "cell_type": "code",
   "execution_count": 2,
   "id": "728324e6",
   "metadata": {},
   "outputs": [
    {
     "name": "stdout",
     "output_type": "stream",
     "text": [
      "Enter a number: 4\n",
      "7\n"
     ]
    }
   ],
   "source": [
    "a = int(input(\"Enter a number: \"))\n",
    "\n",
    "if a > 5:\n",
    "    print(1)\n",
    "    if a > 8:\n",
    "        print(2)\n",
    "    else:\n",
    "        print(3)\n",
    "        if a == 9:\n",
    "            print(4)\n",
    "        elif a == 10:\n",
    "            print(5)\n",
    "        else:\n",
    "            print(6)\n",
    "else:\n",
    "    print(7)\n",
    "    if a == 1:\n",
    "        print(8)"
   ]
  },
  {
   "cell_type": "code",
   "execution_count": null,
   "id": "58623785",
   "metadata": {},
   "outputs": [],
   "source": []
  }
 ],
 "metadata": {
  "kernelspec": {
   "display_name": "Python 3 (ipykernel)",
   "language": "python",
   "name": "python3"
  },
  "language_info": {
   "codemirror_mode": {
    "name": "ipython",
    "version": 3
   },
   "file_extension": ".py",
   "mimetype": "text/x-python",
   "name": "python",
   "nbconvert_exporter": "python",
   "pygments_lexer": "ipython3",
   "version": "3.10.13"
  }
 },
 "nbformat": 4,
 "nbformat_minor": 5
}
