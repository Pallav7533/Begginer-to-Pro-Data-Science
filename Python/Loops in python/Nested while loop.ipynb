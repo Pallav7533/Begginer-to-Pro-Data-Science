{
 "cells": [
  {
   "cell_type": "markdown",
   "id": "ded18b45",
   "metadata": {},
   "source": [
    "# Nested while loop"
   ]
  },
  {
   "cell_type": "raw",
   "id": "be360c40",
   "metadata": {},
   "source": [
    "11  12  13\n",
    "21  22  23\n",
    "31  32  33"
   ]
  },
  {
   "cell_type": "code",
   "execution_count": 1,
   "id": "ce35b2d7",
   "metadata": {},
   "outputs": [
    {
     "name": "stdout",
     "output_type": "stream",
     "text": [
      "1 1  1 2  1 3  \n",
      "\n",
      "\n"
     ]
    }
   ],
   "source": [
    "i = 1\n",
    "j = 1\n",
    "\n",
    "while i <= 3:\n",
    "    \n",
    "    while j <= 3:\n",
    "        print(i,j, end='  ')\n",
    "        j += 1\n",
    "    print()\n",
    "    i += 1"
   ]
  },
  {
   "cell_type": "code",
   "execution_count": 2,
   "id": "55dcbd41",
   "metadata": {},
   "outputs": [
    {
     "name": "stdout",
     "output_type": "stream",
     "text": [
      "1 1  1 2  1 3  \n",
      "2 1  2 2  2 3  \n",
      "3 1  3 2  3 3  \n"
     ]
    }
   ],
   "source": [
    "i = 1\n",
    "# j = 1\n",
    "\n",
    "while i <= 3:\n",
    "    j = 1\n",
    "    while j <= 3:\n",
    "        print(i,j, end='  ')\n",
    "        j += 1\n",
    "    print()\n",
    "    i += 1"
   ]
  },
  {
   "cell_type": "code",
   "execution_count": 3,
   "id": "02af00f3",
   "metadata": {},
   "outputs": [
    {
     "name": "stdout",
     "output_type": "stream",
     "text": [
      "11  12  13  \n",
      "21  22  23  \n",
      "31  32  33  \n"
     ]
    }
   ],
   "source": [
    "i = 1\n",
    "# j = 1\n",
    "\n",
    "while i <= 3:\n",
    "    j = 1\n",
    "    while j <= 3:\n",
    "        print(i, end='')\n",
    "        print(j, end='  ')\n",
    "        j += 1\n",
    "    print()\n",
    "    i += 1"
   ]
  },
  {
   "cell_type": "code",
   "execution_count": 5,
   "id": "af4f5ce1",
   "metadata": {},
   "outputs": [
    {
     "name": "stdout",
     "output_type": "stream",
     "text": [
      "Hi\n",
      "\n",
      "Bye\n"
     ]
    }
   ],
   "source": [
    "print(\"Hi\")\n",
    "print()\n",
    "print(\"Bye\")"
   ]
  },
  {
   "cell_type": "code",
   "execution_count": null,
   "id": "cc2bae1b",
   "metadata": {},
   "outputs": [],
   "source": []
  }
 ],
 "metadata": {
  "kernelspec": {
   "display_name": "Python 3 (ipykernel)",
   "language": "python",
   "name": "python3"
  },
  "language_info": {
   "codemirror_mode": {
    "name": "ipython",
    "version": 3
   },
   "file_extension": ".py",
   "mimetype": "text/x-python",
   "name": "python",
   "nbconvert_exporter": "python",
   "pygments_lexer": "ipython3",
   "version": "3.10.13"
  }
 },
 "nbformat": 4,
 "nbformat_minor": 5
}
