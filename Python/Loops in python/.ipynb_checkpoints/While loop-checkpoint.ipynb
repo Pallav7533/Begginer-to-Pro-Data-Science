{
 "cells": [
  {
   "cell_type": "markdown",
   "id": "953460ab",
   "metadata": {},
   "source": [
    "# While loop"
   ]
  },
  {
   "cell_type": "code",
   "execution_count": 1,
   "id": "b03c231f",
   "metadata": {},
   "outputs": [
    {
     "name": "stdout",
     "output_type": "stream",
     "text": [
      "India\n",
      "India\n",
      "India\n",
      "India\n",
      "India\n"
     ]
    }
   ],
   "source": [
    "i = 1\n",
    "\n",
    "while i <= 5 :\n",
    "    print(\"India\")\n",
    "    i += 1"
   ]
  },
  {
   "cell_type": "code",
   "execution_count": 2,
   "id": "ed739277",
   "metadata": {},
   "outputs": [
    {
     "name": "stdout",
     "output_type": "stream",
     "text": [
      "1\n",
      "2\n",
      "3\n",
      "4\n",
      "5\n"
     ]
    }
   ],
   "source": [
    "i = 1\n",
    "\n",
    "while i <= 5:\n",
    "    print(i)\n",
    "    i += 1"
   ]
  },
  {
   "cell_type": "code",
   "execution_count": 3,
   "id": "e531014c",
   "metadata": {},
   "outputs": [
    {
     "name": "stdout",
     "output_type": "stream",
     "text": [
      "1\n",
      "2\n",
      "3\n",
      "4\n",
      "5\n",
      "6\n",
      "7\n",
      "8\n",
      "9\n",
      "10\n"
     ]
    }
   ],
   "source": [
    "i = 1\n",
    "\n",
    "while i <= 10:\n",
    "    print(i)\n",
    "    i += 1"
   ]
  },
  {
   "cell_type": "raw",
   "id": "d1139077",
   "metadata": {},
   "source": [
    "1  2  3  4  5  6  7  8  9  10"
   ]
  },
  {
   "cell_type": "code",
   "execution_count": 4,
   "id": "c2f5299c",
   "metadata": {},
   "outputs": [
    {
     "name": "stdout",
     "output_type": "stream",
     "text": [
      "Hello\n",
      "User\n"
     ]
    }
   ],
   "source": [
    "print(\"Hello\")\n",
    "print(\"User\")"
   ]
  },
  {
   "cell_type": "raw",
   "id": "502cc7bf",
   "metadata": {},
   "source": [
    "\"Hello\" + \"\\n\""
   ]
  },
  {
   "cell_type": "code",
   "execution_count": 5,
   "id": "cc6cf57b",
   "metadata": {},
   "outputs": [
    {
     "name": "stdout",
     "output_type": "stream",
     "text": [
      "Hello\n",
      "User\n"
     ]
    }
   ],
   "source": [
    "print(\"Hello\", end='\\n')\n",
    "print(\"User\")"
   ]
  },
  {
   "cell_type": "code",
   "execution_count": 6,
   "id": "5dac2799",
   "metadata": {},
   "outputs": [
    {
     "name": "stdout",
     "output_type": "stream",
     "text": [
      "Hello User\n"
     ]
    }
   ],
   "source": [
    "print(\"Hello\", end=' ')\n",
    "print(\"User\")"
   ]
  },
  {
   "cell_type": "code",
   "execution_count": 7,
   "id": "b0f6bfa4",
   "metadata": {},
   "outputs": [
    {
     "name": "stdout",
     "output_type": "stream",
     "text": [
      "Hello+User\n"
     ]
    }
   ],
   "source": [
    "print(\"Hello\", end='+')\n",
    "print(\"User\")"
   ]
  },
  {
   "cell_type": "code",
   "execution_count": 8,
   "id": "1228878c",
   "metadata": {},
   "outputs": [
    {
     "name": "stdout",
     "output_type": "stream",
     "text": [
      "HelloUser\n"
     ]
    }
   ],
   "source": [
    "print(\"Hello\", end='')\n",
    "print(\"User\")"
   ]
  },
  {
   "cell_type": "code",
   "execution_count": 9,
   "id": "098d7727",
   "metadata": {},
   "outputs": [
    {
     "name": "stdout",
     "output_type": "stream",
     "text": [
      "Hello\tUser\n"
     ]
    }
   ],
   "source": [
    "print(\"Hello\", end='\\t')\n",
    "print(\"User\")"
   ]
  },
  {
   "cell_type": "code",
   "execution_count": 10,
   "id": "e8e9fa1e",
   "metadata": {},
   "outputs": [
    {
     "name": "stdout",
     "output_type": "stream",
     "text": [
      "1  2  3  4  5  6  7  8  9  10  "
     ]
    }
   ],
   "source": [
    "i = 1\n",
    "\n",
    "while i <= 10:\n",
    "    print(i, end='  ')\n",
    "    i += 1"
   ]
  },
  {
   "cell_type": "code",
   "execution_count": 11,
   "id": "f7c665cd",
   "metadata": {},
   "outputs": [
    {
     "name": "stdout",
     "output_type": "stream",
     "text": [
      "20\n",
      "10\n"
     ]
    }
   ],
   "source": [
    "a = 10\n",
    "\n",
    "# a = a + 10\n",
    "\n",
    "print(a + 10)\n",
    "\n",
    "print(a)"
   ]
  },
  {
   "cell_type": "code",
   "execution_count": 12,
   "id": "0776a1df",
   "metadata": {},
   "outputs": [
    {
     "name": "stdout",
     "output_type": "stream",
     "text": [
      "1  4  9  16  25  36  49  64  81  100  "
     ]
    }
   ],
   "source": [
    "i = 1\n",
    "\n",
    "while i <= 10:\n",
    "    print(i*i, end=\"  \")\n",
    "    i += 1"
   ]
  },
  {
   "cell_type": "code",
   "execution_count": 13,
   "id": "650f6c56",
   "metadata": {},
   "outputs": [],
   "source": [
    "#Write a program to print first 10 even numbers"
   ]
  },
  {
   "cell_type": "code",
   "execution_count": 14,
   "id": "5359e470",
   "metadata": {},
   "outputs": [
    {
     "name": "stdout",
     "output_type": "stream",
     "text": [
      "2  4  6  8  10  12  14  16  18  20  "
     ]
    }
   ],
   "source": [
    "i = 2\n",
    "\n",
    "while i <= 20:\n",
    "    print(i, end='  ')\n",
    "    i += 2"
   ]
  },
  {
   "cell_type": "code",
   "execution_count": 15,
   "id": "e33fa127",
   "metadata": {},
   "outputs": [
    {
     "name": "stdout",
     "output_type": "stream",
     "text": [
      "2  4  6  8  10  12  14  16  18  20  "
     ]
    }
   ],
   "source": [
    "i = 1\n",
    "\n",
    "while i <= 20:\n",
    "    if i%2 == 0:\n",
    "        print(i, end='  ')\n",
    "    i += 1"
   ]
  },
  {
   "cell_type": "code",
   "execution_count": 16,
   "id": "9dec4582",
   "metadata": {},
   "outputs": [],
   "source": [
    "#Write a program to print first 10 odd numbers"
   ]
  },
  {
   "cell_type": "code",
   "execution_count": 17,
   "id": "a8f989f8",
   "metadata": {},
   "outputs": [
    {
     "name": "stdout",
     "output_type": "stream",
     "text": [
      "1  3  5  7  9  11  13  15  17  19  "
     ]
    }
   ],
   "source": [
    "i = 1\n",
    "\n",
    "while i <= 20:\n",
    "    print(i, end='  ')\n",
    "    i += 2"
   ]
  },
  {
   "cell_type": "code",
   "execution_count": 18,
   "id": "79895c58",
   "metadata": {},
   "outputs": [
    {
     "name": "stdout",
     "output_type": "stream",
     "text": [
      "1  3  5  7  9  11  13  15  17  19  "
     ]
    }
   ],
   "source": [
    "i = 1\n",
    "\n",
    "while i <= 20:\n",
    "    if i%2 == 1:\n",
    "        print(i, end='  ')\n",
    "    i += 1"
   ]
  },
  {
   "cell_type": "code",
   "execution_count": 19,
   "id": "db14ce6e",
   "metadata": {},
   "outputs": [],
   "source": [
    "#Write a program to print following series"
   ]
  },
  {
   "cell_type": "raw",
   "id": "862e2d87",
   "metadata": {},
   "source": [
    "1/1  2/4  3/9  4/16  5/25  6/36  7/49  8/64  9/81  10/100"
   ]
  },
  {
   "cell_type": "code",
   "execution_count": 20,
   "id": "5d515ec2",
   "metadata": {},
   "outputs": [
    {
     "name": "stdout",
     "output_type": "stream",
     "text": [
      "1 / 1  2 / 4  3 / 9  4 / 16  5 / 25  6 / 36  7 / 49  8 / 64  9 / 81  10 / 100  "
     ]
    }
   ],
   "source": [
    "i = 1\n",
    "\n",
    "while i <= 10:\n",
    "    print(i,\"/\", i*i, end='  ')\n",
    "    i += 1"
   ]
  },
  {
   "cell_type": "code",
   "execution_count": 21,
   "id": "d58b51c5",
   "metadata": {},
   "outputs": [
    {
     "name": "stdout",
     "output_type": "stream",
     "text": [
      "1/1  2/4  3/9  4/16  5/25  6/36  7/49  8/64  9/81  10/100  "
     ]
    }
   ],
   "source": [
    "i = 1\n",
    "\n",
    "while i <= 10:\n",
    "    print(i, end='/')\n",
    "    print(i*i, end='  ')\n",
    "    i += 1"
   ]
  },
  {
   "cell_type": "raw",
   "id": "52a74dcf",
   "metadata": {},
   "source": [
    "1+2+3+4+5+6+7+8+9+10"
   ]
  },
  {
   "cell_type": "code",
   "execution_count": 22,
   "id": "4f1d3118",
   "metadata": {},
   "outputs": [
    {
     "name": "stdout",
     "output_type": "stream",
     "text": [
      "1+2+3+4+5+6+7+8+9+10+"
     ]
    }
   ],
   "source": [
    "i = 1\n",
    "\n",
    "while i <= 10:\n",
    "    print(i, end='+')\n",
    "    i += 1"
   ]
  },
  {
   "cell_type": "code",
   "execution_count": 23,
   "id": "1e00fcb4",
   "metadata": {},
   "outputs": [
    {
     "name": "stdout",
     "output_type": "stream",
     "text": [
      "1+2+3+4+5+6+7+8+9+10\n"
     ]
    }
   ],
   "source": [
    "i = 1\n",
    "\n",
    "while i <= 10:\n",
    "    if i < 10:\n",
    "        print(i, end='+')\n",
    "    else:\n",
    "        print(i)\n",
    "    i += 1"
   ]
  },
  {
   "cell_type": "code",
   "execution_count": null,
   "id": "c3b2bdb1",
   "metadata": {},
   "outputs": [],
   "source": []
  }
 ],
 "metadata": {
  "kernelspec": {
   "display_name": "Python 3 (ipykernel)",
   "language": "python",
   "name": "python3"
  },
  "language_info": {
   "codemirror_mode": {
    "name": "ipython",
    "version": 3
   },
   "file_extension": ".py",
   "mimetype": "text/x-python",
   "name": "python",
   "nbconvert_exporter": "python",
   "pygments_lexer": "ipython3",
   "version": "3.10.13"
  }
 },
 "nbformat": 4,
 "nbformat_minor": 5
}
