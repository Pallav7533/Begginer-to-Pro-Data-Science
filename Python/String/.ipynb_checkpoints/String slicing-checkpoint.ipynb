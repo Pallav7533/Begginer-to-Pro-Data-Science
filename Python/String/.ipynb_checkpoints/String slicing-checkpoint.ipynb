{
 "cells": [
  {
   "cell_type": "code",
   "execution_count": 1,
   "id": "fc1a76ed",
   "metadata": {},
   "outputs": [
    {
     "name": "stdout",
     "output_type": "stream",
     "text": [
      "c\n"
     ]
    }
   ],
   "source": [
    "s = \"communication\"\n",
    "#    0123456789\n",
    "\n",
    "print(s[0])"
   ]
  },
  {
   "cell_type": "code",
   "execution_count": 2,
   "id": "6e5bced1",
   "metadata": {},
   "outputs": [
    {
     "name": "stdout",
     "output_type": "stream",
     "text": [
      "comm\n"
     ]
    }
   ],
   "source": [
    "print(s[0:4])"
   ]
  },
  {
   "cell_type": "code",
   "execution_count": 3,
   "id": "f6a50cce",
   "metadata": {},
   "outputs": [
    {
     "name": "stdout",
     "output_type": "stream",
     "text": [
      "mmunic\n"
     ]
    }
   ],
   "source": [
    "print(s[2:8])"
   ]
  },
  {
   "cell_type": "code",
   "execution_count": 4,
   "id": "520b552c",
   "metadata": {},
   "outputs": [
    {
     "data": {
      "text/plain": [
       "''"
      ]
     },
     "execution_count": 4,
     "metadata": {},
     "output_type": "execute_result"
    }
   ],
   "source": [
    "s[4:1]"
   ]
  },
  {
   "cell_type": "code",
   "execution_count": 5,
   "id": "f715d029",
   "metadata": {},
   "outputs": [
    {
     "name": "stdout",
     "output_type": "stream",
     "text": [
      "\n"
     ]
    }
   ],
   "source": [
    "print(s[4:1])"
   ]
  },
  {
   "cell_type": "code",
   "execution_count": 6,
   "id": "8f917dcf",
   "metadata": {},
   "outputs": [
    {
     "name": "stdout",
     "output_type": "stream",
     "text": [
      "True\n",
      "False\n"
     ]
    }
   ],
   "source": [
    "a = \" \" # -> 32\n",
    "\n",
    "b = \"\"\n",
    "\n",
    "print(bool(a))\n",
    "\n",
    "print(bool(b))\n"
   ]
  },
  {
   "cell_type": "code",
   "execution_count": 7,
   "id": "8af72764",
   "metadata": {},
   "outputs": [
    {
     "name": "stdout",
     "output_type": "stream",
     "text": [
      "<class 'str'>\n",
      "<class 'str'>\n"
     ]
    }
   ],
   "source": [
    "\n",
    "print(type(a))\n",
    "\n",
    "print(type(b))"
   ]
  },
  {
   "cell_type": "code",
   "execution_count": 8,
   "id": "2198dfd7",
   "metadata": {},
   "outputs": [
    {
     "name": "stdout",
     "output_type": "stream",
     "text": [
      "cmuiain\n"
     ]
    }
   ],
   "source": [
    "s = \"communication\"\n",
    "#    0123456789\n",
    "\n",
    "print(s[::2])  # start : end : steps\n"
   ]
  },
  {
   "cell_type": "code",
   "execution_count": 9,
   "id": "6bd20ef2",
   "metadata": {},
   "outputs": [
    {
     "name": "stdout",
     "output_type": "stream",
     "text": [
      "noitacinummoc\n"
     ]
    }
   ],
   "source": [
    "\n",
    "print(s[::-1])"
   ]
  },
  {
   "cell_type": "code",
   "execution_count": 10,
   "id": "35daeabc",
   "metadata": {},
   "outputs": [
    {
     "name": "stdout",
     "output_type": "stream",
     "text": [
      "niaiumc\n"
     ]
    }
   ],
   "source": [
    "\n",
    "print(s[::-2])"
   ]
  },
  {
   "cell_type": "code",
   "execution_count": 11,
   "id": "9ded06e7",
   "metadata": {},
   "outputs": [
    {
     "data": {
      "text/plain": [
       "'communication'"
      ]
     },
     "execution_count": 11,
     "metadata": {},
     "output_type": "execute_result"
    }
   ],
   "source": [
    "s   # immutable"
   ]
  },
  {
   "cell_type": "code",
   "execution_count": 12,
   "id": "4ae5afeb",
   "metadata": {},
   "outputs": [
    {
     "name": "stdout",
     "output_type": "stream",
     "text": [
      "umm\n",
      "ommunication\n",
      "noitacinumm\n"
     ]
    }
   ],
   "source": [
    "print(s[4:1:-1])\n",
    "\n",
    "print(s[1:55:])\n",
    "\n",
    "print(s[55:1:-1])"
   ]
  },
  {
   "cell_type": "code",
   "execution_count": 13,
   "id": "cc864b3b",
   "metadata": {},
   "outputs": [
    {
     "ename": "ValueError",
     "evalue": "slice step cannot be zero",
     "output_type": "error",
     "traceback": [
      "\u001b[1;31m---------------------------------------------------------------------------\u001b[0m",
      "\u001b[1;31mValueError\u001b[0m                                Traceback (most recent call last)",
      "Cell \u001b[1;32mIn[13], line 1\u001b[0m\n\u001b[1;32m----> 1\u001b[0m \u001b[38;5;28mprint\u001b[39m(\u001b[43ms\u001b[49m\u001b[43m[\u001b[49m\u001b[43m:\u001b[49m\u001b[43m:\u001b[49m\u001b[38;5;241;43m0\u001b[39;49m\u001b[43m]\u001b[49m)\n",
      "\u001b[1;31mValueError\u001b[0m: slice step cannot be zero"
     ]
    }
   ],
   "source": [
    "print(s[::0])"
   ]
  },
  {
   "cell_type": "code",
   "execution_count": 1,
   "id": "f4e44dd2",
   "metadata": {},
   "outputs": [
    {
     "ename": "NameError",
     "evalue": "name 's' is not defined",
     "output_type": "error",
     "traceback": [
      "\u001b[1;31m---------------------------------------------------------------------------\u001b[0m",
      "\u001b[1;31mNameError\u001b[0m                                 Traceback (most recent call last)",
      "Cell \u001b[1;32mIn[1], line 1\u001b[0m\n\u001b[1;32m----> 1\u001b[0m \u001b[38;5;28mprint\u001b[39m(\u001b[43ms\u001b[49m[\u001b[38;5;241m2\u001b[39m:\u001b[38;5;241m8\u001b[39m])\n",
      "\u001b[1;31mNameError\u001b[0m: name 's' is not defined"
     ]
    }
   ],
   "source": [
    "print(s[2:8])"
   ]
  },
  {
   "cell_type": "code",
   "execution_count": null,
   "id": "ebf90f75",
   "metadata": {},
   "outputs": [],
   "source": []
  }
 ],
 "metadata": {
  "kernelspec": {
   "display_name": "Python 3 (ipykernel)",
   "language": "python",
   "name": "python3"
  },
  "language_info": {
   "codemirror_mode": {
    "name": "ipython",
    "version": 3
   },
   "file_extension": ".py",
   "mimetype": "text/x-python",
   "name": "python",
   "nbconvert_exporter": "python",
   "pygments_lexer": "ipython3",
   "version": "3.10.13"
  }
 },
 "nbformat": 4,
 "nbformat_minor": 5
}
