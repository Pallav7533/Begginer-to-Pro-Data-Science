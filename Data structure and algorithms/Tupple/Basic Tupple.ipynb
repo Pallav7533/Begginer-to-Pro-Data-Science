{
 "cells": [
  {
   "cell_type": "markdown",
   "id": "f0fb6fe3",
   "metadata": {},
   "source": [
    "# Tuple"
   ]
  },
  {
   "cell_type": "raw",
   "id": "1c11e367",
   "metadata": {},
   "source": [
    "#Tuples are used to store multiple items in a single variable."
   ]
  },
  {
   "cell_type": "raw",
   "id": "8501c311",
   "metadata": {},
   "source": [
    "Tuple is one of 4 built-in data types in Python used to store collections of data, the other 3 are List, Set, and Dictionary, all with different qualities and usage.\n",
    "\n",
    "A tuple is a collection which is ordered and unchangeable.\n",
    "\n",
    "Tuples are written with round brackets."
   ]
  }
 ],
 "metadata": {
  "kernelspec": {
   "display_name": "Python 3 (ipykernel)",
   "language": "python",
   "name": "python3"
  },
  "language_info": {
   "codemirror_mode": {
    "name": "ipython",
    "version": 3
   },
   "file_extension": ".py",
   "mimetype": "text/x-python",
   "name": "python",
   "nbconvert_exporter": "python",
   "pygments_lexer": "ipython3",
   "version": "3.10.13"
  }
 },
 "nbformat": 4,
 "nbformat_minor": 5
}
