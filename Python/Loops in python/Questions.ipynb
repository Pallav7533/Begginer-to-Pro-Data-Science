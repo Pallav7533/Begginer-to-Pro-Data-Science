{
 "cells": [
  {
   "cell_type": "code",
   "execution_count": 1,
   "id": "76cea171",
   "metadata": {},
   "outputs": [],
   "source": [
    "#Write a program to enter a number from the user and print reverse of that number,"
   ]
  },
  {
   "cell_type": "code",
   "execution_count": 2,
   "id": "781739f6",
   "metadata": {},
   "outputs": [
    {
     "name": "stdout",
     "output_type": "stream",
     "text": [
      "Enter a number: 876\n",
      "678"
     ]
    }
   ],
   "source": [
    "n = int(input(\"Enter a number: \"))\n",
    "\n",
    "while n > 0:\n",
    "    r = n % 10\n",
    "    print(r, end='')   # 341\n",
    "    n = n // 10"
   ]
  },
  {
   "cell_type": "code",
   "execution_count": 3,
   "id": "7d5d2d3e",
   "metadata": {},
   "outputs": [],
   "source": [
    "#Write a program to enter a number from the user and print addition of its individual digits,"
   ]
  },
  {
   "cell_type": "code",
   "execution_count": 4,
   "id": "78d329fc",
   "metadata": {},
   "outputs": [
    {
     "name": "stdout",
     "output_type": "stream",
     "text": [
      "Enter a number: 37437\n",
      "Addition = 24\n"
     ]
    }
   ],
   "source": [
    "n = int(input(\"Enter a number: \"))\n",
    "add = 0\n",
    "\n",
    "while n > 0:\n",
    "    r = n % 10\n",
    "    add = add + r  # add = 0, 3, 7, 8\n",
    "    n = n // 10\n",
    "\n",
    "print(\"Addition =\", add)"
   ]
  },
  {
   "cell_type": "code",
   "execution_count": 5,
   "id": "f734ed96",
   "metadata": {},
   "outputs": [],
   "source": [
    "#Write a program to enter a number from the user and print reverse of it with dynamic method,"
   ]
  },
  {
   "cell_type": "code",
   "execution_count": 6,
   "id": "9969c57e",
   "metadata": {},
   "outputs": [
    {
     "name": "stdout",
     "output_type": "stream",
     "text": [
      "Enter a number: 423423\n",
      "Reverse = 324324\n",
      "648648\n"
     ]
    }
   ],
   "source": [
    "n = int(input(\"Enter a number: \"))\n",
    "add = 0\n",
    "\n",
    "while n > 0:\n",
    "    r = n % 10\n",
    "    add = add * 10 + r  # add = 0, 3, 34, 341\n",
    "    n = n // 10\n",
    "\n",
    "print(\"Reverse =\", add)\n",
    "print(add * 2)"
   ]
  },
  {
   "cell_type": "code",
   "execution_count": 7,
   "id": "6b20aa99",
   "metadata": {},
   "outputs": [],
   "source": [
    "#Write a program to enter a number from the user and check if it palindrome or not,"
   ]
  },
  {
   "cell_type": "code",
   "execution_count": 8,
   "id": "e6cb3f90",
   "metadata": {},
   "outputs": [
    {
     "name": "stdout",
     "output_type": "stream",
     "text": [
      "Enter a number: 3213\n",
      "Not a Palindrome\n"
     ]
    }
   ],
   "source": [
    "n = int(input(\"Enter a number: \"))\n",
    "add = 0\n",
    "\n",
    "while n > 0:\n",
    "    r = n % 10\n",
    "    add = add * 10 + r\n",
    "    n = n // 10\n",
    "\n",
    "if add == n:\n",
    "    print(\"Palindrome\")\n",
    "else:\n",
    "    print(\"Not a Palindrome\")"
   ]
  },
  {
   "cell_type": "code",
   "execution_count": 9,
   "id": "0d4a6a74",
   "metadata": {},
   "outputs": [],
   "source": [
    "#Write a program to enter a number from the user and check if it armstrong number or not,"
   ]
  },
  {
   "cell_type": "code",
   "execution_count": 10,
   "id": "5135d7f5",
   "metadata": {},
   "outputs": [
    {
     "name": "stdout",
     "output_type": "stream",
     "text": [
      "Enter a number: 453\n",
      "Not an Armstrong Number\n"
     ]
    }
   ],
   "source": [
    "n = int(input(\"Enter a number: \"))\n",
    "call = n\n",
    "add = 0\n",
    "\n",
    "while n > 0:\n",
    "    r = n % 10\n",
    "    add = add + r*r*r  # add = 0, 27\n",
    "    n = n // 10\n",
    "\n",
    "if add == call:\n",
    "    print(\"Armstrong Number\")\n",
    "else:\n",
    "    print(\"Not an Armstrong Number\")"
   ]
  },
  {
   "cell_type": "code",
   "execution_count": null,
   "id": "5178b72e",
   "metadata": {},
   "outputs": [],
   "source": []
  }
 ],
 "metadata": {
  "kernelspec": {
   "display_name": "Python 3 (ipykernel)",
   "language": "python",
   "name": "python3"
  },
  "language_info": {
   "codemirror_mode": {
    "name": "ipython",
    "version": 3
   },
   "file_extension": ".py",
   "mimetype": "text/x-python",
   "name": "python",
   "nbconvert_exporter": "python",
   "pygments_lexer": "ipython3",
   "version": "3.10.13"
  }
 },
 "nbformat": 4,
 "nbformat_minor": 5
}
