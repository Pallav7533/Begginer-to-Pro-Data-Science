{
 "cells": [
  {
   "cell_type": "code",
   "execution_count": 1,
   "id": "0863c81b",
   "metadata": {},
   "outputs": [],
   "source": [
    "#Write a program to enter 2 numbers from user and print addition of them\n"
   ]
  },
  {
   "cell_type": "code",
   "execution_count": 2,
   "id": "0d65570c",
   "metadata": {},
   "outputs": [
    {
     "name": "stdout",
     "output_type": "stream",
     "text": [
      "Enter 1st Number: 67\n",
      "Enter 2nd Number: 3\n",
      "673\n"
     ]
    }
   ],
   "source": [
    "a = input(\"Enter 1st Number: \")\n",
    "b = input(\"Enter 2nd Number: \")\n",
    "\n",
    "c = a + b\n",
    "\n",
    "print(c)"
   ]
  },
  {
   "cell_type": "code",
   "execution_count": 3,
   "id": "66c81545",
   "metadata": {},
   "outputs": [
    {
     "name": "stdout",
     "output_type": "stream",
     "text": [
      "<class 'str'>\n"
     ]
    }
   ],
   "source": [
    "print(type(a))"
   ]
  },
  {
   "cell_type": "code",
   "execution_count": 4,
   "id": "7d2a97be",
   "metadata": {},
   "outputs": [
    {
     "name": "stdout",
     "output_type": "stream",
     "text": [
      "Enter 1st Number: 31231\n",
      "Enter 2nd Number: 123123\n",
      "154354\n"
     ]
    }
   ],
   "source": [
    "a = int(input(\"Enter 1st Number: \"))\n",
    "b = int(input(\"Enter 2nd Number: \"))\n",
    "\n",
    "c = a + b\n",
    "\n",
    "print(c)"
   ]
  },
  {
   "cell_type": "code",
   "execution_count": 5,
   "id": "e7f62f4e",
   "metadata": {},
   "outputs": [
    {
     "name": "stdout",
     "output_type": "stream",
     "text": [
      "Enter 1st Number: 23123\n",
      "Enter 2nd Number: 12313\n",
      "Addition = 35436\n"
     ]
    }
   ],
   "source": [
    "a = int(input(\"Enter 1st Number: \"))\n",
    "b = int(input(\"Enter 2nd Number: \"))\n",
    "\n",
    "c = a + b\n",
    "\n",
    "print(\"Addition =\",c)"
   ]
  },
  {
   "cell_type": "code",
   "execution_count": 6,
   "id": "78283bb9",
   "metadata": {},
   "outputs": [],
   "source": [
    "#Write a program to enter 2 numbers from user and print addition, subtraction, multiplication and division.\n"
   ]
  },
  {
   "cell_type": "code",
   "execution_count": 8,
   "id": "e727e421",
   "metadata": {},
   "outputs": [
    {
     "name": "stdout",
     "output_type": "stream",
     "text": [
      "Enter 1st Number: 78\n",
      "Enter 2nd Number: 312\n",
      "390\n",
      "-234\n",
      "24336\n",
      "0.25\n"
     ]
    }
   ],
   "source": [
    "a = int(input(\"Enter 1st Number: \"))\n",
    "b = int(input(\"Enter 2nd Number: \"))\n",
    "\n",
    "c = a+b\n",
    "d = a-b\n",
    "e = a*b\n",
    "f = a/b\n",
    "\n",
    "print(c)\n",
    "print(d)\n",
    "print(e)\n",
    "print(f)"
   ]
  },
  {
   "cell_type": "code",
   "execution_count": null,
   "id": "fbb515cd",
   "metadata": {},
   "outputs": [],
   "source": []
  }
 ],
 "metadata": {
  "kernelspec": {
   "display_name": "Python 3 (ipykernel)",
   "language": "python",
   "name": "python3"
  },
  "language_info": {
   "codemirror_mode": {
    "name": "ipython",
    "version": 3
   },
   "file_extension": ".py",
   "mimetype": "text/x-python",
   "name": "python",
   "nbconvert_exporter": "python",
   "pygments_lexer": "ipython3",
   "version": "3.10.13"
  }
 },
 "nbformat": 4,
 "nbformat_minor": 5
}
