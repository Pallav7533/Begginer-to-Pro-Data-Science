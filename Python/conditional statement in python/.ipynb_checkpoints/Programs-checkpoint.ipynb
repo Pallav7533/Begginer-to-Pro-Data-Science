{
 "cells": [
  {
   "cell_type": "code",
   "execution_count": 1,
   "id": "d4cebb3b",
   "metadata": {},
   "outputs": [],
   "source": [
    "#Write a program to enter a number from user and check if it is greater than 10 or not."
   ]
  },
  {
   "cell_type": "code",
   "execution_count": 2,
   "id": "06a3a344",
   "metadata": {},
   "outputs": [
    {
     "name": "stdout",
     "output_type": "stream",
     "text": [
      "Enter a number: 34\n",
      "Greater\n"
     ]
    }
   ],
   "source": [
    "a = int(input(\"Enter a number: \"))\n",
    "\n",
    "if a > 10:\n",
    "    print(\"Greater\")\n",
    "elif a == 10:\n",
    "    print(\"Equal\")\n",
    "else:\n",
    "    print(\"Smaller\")"
   ]
  },
  {
   "cell_type": "code",
   "execution_count": 3,
   "id": "066e1a06",
   "metadata": {},
   "outputs": [],
   "source": [
    "#Write a program to enter 3 numbers from user and print the greater number."
   ]
  },
  {
   "cell_type": "code",
   "execution_count": 4,
   "id": "71d33439",
   "metadata": {},
   "outputs": [
    {
     "name": "stdout",
     "output_type": "stream",
     "text": [
      "Enter 1st number: 45\n",
      "Enter 2nd number: 21\n",
      "Enter 3rd number: 44\n",
      "Greater = 45\n"
     ]
    }
   ],
   "source": [
    "a = int(input(\"Enter 1st number: \"))\n",
    "b = int(input(\"Enter 2nd number: \"))\n",
    "c = int(input(\"Enter 3rd number: \"))\n",
    "\n",
    "if a >= b:\n",
    "    if a >= c:\n",
    "        print(\"Greater =\", a)\n",
    "    else:\n",
    "        print(\"Greater = \", c)\n",
    "else:\n",
    "    if b >= c:\n",
    "        print(\"Greater=\", b)\n",
    "    else:\n",
    "        print(\"Greater =\", c)"
   ]
  },
  {
   "cell_type": "code",
   "execution_count": 5,
   "id": "c08468f8",
   "metadata": {},
   "outputs": [],
   "source": [
    "#Write a program to enter a number between 0 to 9 and print its character format."
   ]
  },
  {
   "cell_type": "code",
   "execution_count": 6,
   "id": "1ee151f4",
   "metadata": {},
   "outputs": [
    {
     "name": "stdout",
     "output_type": "stream",
     "text": [
      "Enter a number: 8\n",
      "Eight\n"
     ]
    }
   ],
   "source": [
    "a = int(input(\"Enter a number: \"))\n",
    "\n",
    "if a == 0:\n",
    "    print(\"Zero\")\n",
    "elif a == 1:\n",
    "    print(\"One\")\n",
    "elif a == 2:\n",
    "    print(\"Two\")\n",
    "elif a == 3:\n",
    "    print(\"Three\")\n",
    "elif a == 4:\n",
    "    print(\"Four\")\n",
    "elif a == 5:\n",
    "    print(\"Five\")\n",
    "elif a == 6:\n",
    "    print(\"Six\")\n",
    "elif a == 7:\n",
    "    print(\"Seven\")\n",
    "elif a == 8:\n",
    "    print(\"Eight\")\n",
    "elif a == 9:\n",
    "    print(\"Nine\")\n",
    "else:\n",
    "    print(\"Incorrect Value\")"
   ]
  },
  {
   "cell_type": "code",
   "execution_count": 7,
   "id": "d9f6b284",
   "metadata": {},
   "outputs": [],
   "source": [
    "#Write a program to enter a character from user and check if it is vowel or consonant."
   ]
  },
  {
   "cell_type": "code",
   "execution_count": 9,
   "id": "e6c811a0",
   "metadata": {},
   "outputs": [
    {
     "name": "stdout",
     "output_type": "stream",
     "text": [
      "Enter a character: t\n",
      "Consonant\n"
     ]
    }
   ],
   "source": [
    "ch = input(\"Enter a character: \")\n",
    "\n",
    "if c == 'a':\n",
    "    print(\"Vowel\")\n",
    "elif c == 'e':\n",
    "    print('Vowel')\n",
    "elif c == 'i':\n",
    "    print('Vowel')\n",
    "elif c == 'o':\n",
    "    print('Vowel')\n",
    "elif c == 'u':\n",
    "    print('Vowel')\n",
    "else:\n",
    "    print(\"Consonant\")"
   ]
  },
  {
   "cell_type": "code",
   "execution_count": 10,
   "id": "e1e49484",
   "metadata": {},
   "outputs": [
    {
     "name": "stdout",
     "output_type": "stream",
     "text": [
      "Enter a character: g\n",
      "Consonant\n"
     ]
    }
   ],
   "source": [
    "c = input(\"Enter a character: \")\n",
    "\n",
    "if c == 'a' or c == 'e' or c == 'i' or c == 'o' or c == 'u':\n",
    "    print(\"Vowel\")\n",
    "else:\n",
    "    print(\"Consonant\")"
   ]
  },
  {
   "cell_type": "code",
   "execution_count": null,
   "id": "e3516987",
   "metadata": {},
   "outputs": [],
   "source": []
  }
 ],
 "metadata": {
  "kernelspec": {
   "display_name": "Python 3 (ipykernel)",
   "language": "python",
   "name": "python3"
  },
  "language_info": {
   "codemirror_mode": {
    "name": "ipython",
    "version": 3
   },
   "file_extension": ".py",
   "mimetype": "text/x-python",
   "name": "python",
   "nbconvert_exporter": "python",
   "pygments_lexer": "ipython3",
   "version": "3.10.13"
  }
 },
 "nbformat": 4,
 "nbformat_minor": 5
}
